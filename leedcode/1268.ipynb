{
 "cells": [
  {
   "cell_type": "markdown",
   "metadata": {},
   "source": [
    "# 1268. Search Suggestions System\n",
    "\n",
    "You are given an array of strings products and a string searchWord.\n",
    "\n",
    "Design a system that suggests at most three product names from products after each character of searchWord is typed. Suggested products should have common prefix with searchWord. If there are more than three products with a common prefix return the three lexicographically minimums products.\n",
    "\n",
    "Return a list of lists of the suggested products after each character of searchWord is typed.\n",
    "\n",
    " \n",
    "\n",
    "Example 1:\n",
    "\n",
    "Input: products = [\"mobile\",\"mouse\",\"moneypot\",\"monitor\",\"mousepad\"], searchWord = \"mouse\"\n",
    "\n",
    "Output: [[\"mobile\",\"moneypot\",\"monitor\"],[\"mobile\",\"moneypot\",\"monitor\"],[\"mouse\",\"mousepad\"],[\"mouse\",\"mousepad\"],[\"mouse\",\"mousepad\"]]\n",
    "\n",
    "Explanation: products sorted lexicographically = [\"mobile\",\"moneypot\",\"monitor\",\"mouse\",\"mousepad\"].\n",
    "After typing m and mo all products match and we show user [\"mobile\",\"moneypot\",\"monitor\"].\n",
    "After typing mou, mous and mouse the system suggests [\"mouse\",\"mousepad\"].\n",
    "\n",
    "Example 2:\n",
    "\n",
    "Input: products = [\"havana\"], searchWord = \"havana\"\n",
    "\n",
    "Output: [[\"havana\"],[\"havana\"],[\"havana\"],[\"havana\"],[\"havana\"],[\"havana\"]]\n",
    "\n",
    "Explanation: The only word \"havana\" will be always suggested while typing the search word.\n"
   ]
  },
  {
   "cell_type": "code",
   "execution_count": null,
   "metadata": {},
   "outputs": [],
   "source": [
    "class Solution(object):\n",
    "    def suggestedProducts(self, products, searchWord):\n",
    "        \"\"\"\n",
    "        :type products: List[str]\n",
    "        :type searchWord: str\n",
    "        :rtype: List[List[str]]\n",
    "        \"\"\"\n",
    "        products.sort()\n",
    "        start, end = 0, len(products)-1\n",
    "        results=[]\n",
    "        for i in range(len(searchWord)):\n",
    "            prefix = searchWord[i]\n",
    "            while  len(products[start])>i+1 and products[start][i] != prefix and start<end:\n",
    "                start += 1\n",
    "                print(i, start)\n",
    "            while len(products[end])>i+1 and products[end][i] != prefix and start<end:\n",
    "                end -= 1\n",
    "            common = end-start+1\n",
    "            if common==0:\n",
    "                results.append([])\n",
    "            elif common==1 and products[start][:i+1]==searchWord[:i+1]:\n",
    "                results.append([products[start]])\n",
    "            elif common==2:\n",
    "                results.append([products[start], products[start+1]])\n",
    "            elif common>=3:\n",
    "                results.append([products[start], products[start+1], products[start+2]])\n",
    "        return results"
   ]
  },
  {
   "cell_type": "code",
   "execution_count": 21,
   "metadata": {},
   "outputs": [
    {
     "name": "stdout",
     "output_type": "stream",
     "text": [
      "2 1\n",
      "2 2\n",
      "2 3\n"
     ]
    },
    {
     "data": {
      "text/plain": [
       "[['mobile', 'moneypot', 'monitor'],\n",
       " ['mobile', 'moneypot', 'monitor'],\n",
       " ['mouse', 'mousepad'],\n",
       " ['mouse', 'mousepad'],\n",
       " ['mouse', 'mousepad']]"
      ]
     },
     "execution_count": 21,
     "metadata": {},
     "output_type": "execute_result"
    }
   ],
   "source": [
    "s = Solution()\n",
    "products = [\"mobile\",\"mouse\",\"moneypot\",\"monitor\",\"mousepad\"]\n",
    "searchWord = \"mouse\"\n",
    "s.suggestedProducts(products, searchWord)"
   ]
  },
  {
   "cell_type": "code",
   "execution_count": 22,
   "metadata": {},
   "outputs": [
    {
     "data": {
      "text/plain": [
       "[]"
      ]
     },
     "execution_count": 22,
     "metadata": {},
     "output_type": "execute_result"
    }
   ],
   "source": [
    "s = Solution()\n",
    "products = [\"havana\"]\n",
    "searchWord = \"tatiana\"\n",
    "s.suggestedProducts(products, searchWord)"
   ]
  }
 ],
 "metadata": {
  "kernelspec": {
   "display_name": "cntm-ds",
   "language": "python",
   "name": "python3"
  },
  "language_info": {
   "codemirror_mode": {
    "name": "ipython",
    "version": 3
   },
   "file_extension": ".py",
   "mimetype": "text/x-python",
   "name": "python",
   "nbconvert_exporter": "python",
   "pygments_lexer": "ipython3",
   "version": "3.11.9"
  }
 },
 "nbformat": 4,
 "nbformat_minor": 2
}
