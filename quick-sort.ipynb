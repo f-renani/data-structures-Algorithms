{
 "cells": [
  {
   "cell_type": "markdown",
   "metadata": {},
   "source": [
    "# Quicksort Algorithm\n",
    "Quicksort is a highly efficient and widely used sorting algorithm based on the divide-and-conquer approach. The algorithm works by selecting a 'pivot' element from the array and partitioning the other elements into two sub-arrays: one with elements smaller than the pivot and another with elements larger than the pivot. These sub-arrays are then sorted recursively.\n",
    "\n",
    "Key steps of the Quicksort algorithm:\n",
    "\n",
    "- Choose a Pivot: Select an element as the pivot (e.g., first, last, or middle element).\n",
    "- Partitioning: Reorder the array so that all elements smaller than the pivot come before it and all larger elements go after.\n",
    "- Recursive Sort: Recursively apply the same process to the left and right sub-arrays.\n",
    "- Quicksort has an average time complexity of O(n log n), but in the worst case (when the pivot is poorly chosen), it can degrade to O(n²). However, its in-place sorting (low memory overhead) and generally faster performance make it a popular choice for many practical applications.\n",
    "\n",
    "\n"
   ]
  },
  {
   "cell_type": "markdown",
   "metadata": {},
   "source": [
    "# Simplified Quicksort Implementation: A Basic Approach\n",
    "\n",
    "I'll start with a simpler implementation first, and then move on to an in-place version.\n",
    "\n",
    "This Quicksort implementation is straightforward but less efficient. It selects the last element as the pivot and splits the list into two sublists: one containing elements smaller than the pivot and another with elements greater than or equal to it. The algorithm recursively sorts these sublists and combines them with the pivot in the middle. However, this version creates new sublists at each step, making it slower and more memory-intensive than in-place Quicksort implementations."
   ]
  },
  {
   "cell_type": "code",
   "execution_count": 21,
   "metadata": {},
   "outputs": [],
   "source": [
    "def QuickSort(seq):\n",
    "    if len(seq)<=1:\n",
    "        return seq\n",
    "\n",
    "    p = len(seq)-1\n",
    "    p_element = seq[p]\n",
    "\n",
    "    greater = []\n",
    "    smaller = []\n",
    "    for element in seq[:p]:\n",
    "        if element < p_element:\n",
    "            smaller.append(element)\n",
    "        else:\n",
    "            greater.append(element)\n",
    "    return QuickSort(smaller)+[p_element] +QuickSort(greater)\n"
   ]
  },
  {
   "cell_type": "code",
   "execution_count": 22,
   "metadata": {},
   "outputs": [
    {
     "name": "stdout",
     "output_type": "stream",
     "text": [
      "[2, 6, 3, 9, 1] [1, 2, 3, 6, 9]\n",
      "[2] [2]\n",
      "[] []\n"
     ]
    }
   ],
   "source": [
    "ls = [2,6,3,9,1]\n",
    "print(ls, QuickSort(ls))\n",
    "\n",
    "ls = [2]\n",
    "print(ls, QuickSort(ls))\n",
    "\n",
    "ls = []\n",
    "print(ls, QuickSort(ls))\n"
   ]
  },
  {
   "cell_type": "markdown",
   "metadata": {},
   "source": [
    "# Hoare approch\n",
    "Here are the steps for the partitioning process in Quicksort:\n",
    "\n",
    "- Move the Start Pointer: Move the start pointer to the right until you find an element greater than the pivot.\n",
    "- Move the End Pointer: Move the end pointer to the left until you find an element smaller than the pivot.\n",
    "- Swap Elements: If both pointers have found such elements, swap them and leave the pointers in their current positions.\n",
    "- Repeat: Continue this process until the end pointer crosses the start pointer.\n",
    "- Final Swap: Once the pointers cross, swap the pivot with the element at the end pointer's position to place the pivot in its correct position."
   ]
  },
  {
   "cell_type": "code",
   "execution_count": 29,
   "metadata": {},
   "outputs": [],
   "source": [
    "def partition(arr, start, end):\n",
    "    p = start  # store original start as pivot index\n",
    "    p_value = arr[start]\n",
    "    start = start + 1  # move start to next element\n",
    "\n",
    "    while start <= end:\n",
    "        # Move start pointer to the right until we find an element >= pivot value\n",
    "        while start < len(arr) and arr[start] < p_value:\n",
    "            start += 1\n",
    "\n",
    "        # Move end pointer to the left until we find an element <= pivot value\n",
    "        while end >= p and arr[end] > p_value:\n",
    "            end -= 1\n",
    "\n",
    "        # Swap if start and end haven't crossed\n",
    "        if start < end:\n",
    "            arr[start], arr[end] = arr[end], arr[start]\n",
    "\n",
    "    # Swap the pivot with the element at the end pointer\n",
    "    arr[p], arr[end] = arr[end], arr[p]\n",
    "    return end\n",
    "\n",
    "\n",
    "def QuickSort2(seq, low, high):\n",
    "    if low < high:\n",
    "        pivot_ind = partition(seq, low, high)\n",
    "        QuickSort2(seq, low, pivot_ind - 1)  # Recursively sort the left part\n",
    "        QuickSort2(seq, pivot_ind + 1, high)  # Recursively sort the right part\n",
    "    return seq\n"
   ]
  },
  {
   "cell_type": "code",
   "execution_count": 31,
   "metadata": {},
   "outputs": [
    {
     "name": "stdout",
     "output_type": "stream",
     "text": [
      "[1, 2, 3, 6, 9] [1, 2, 3, 6, 9]\n",
      "[2] [2]\n",
      "[] []\n"
     ]
    }
   ],
   "source": [
    "ls = [2,6,3,9,1]\n",
    "print(ls, QuickSort2(ls, 0, len(ls)-1))\n",
    "\n",
    "ls = [2]\n",
    "print(ls, QuickSort2(ls, 0, len(ls)-1))\n",
    "\n",
    "ls = []\n",
    "print(ls, QuickSort2(ls, 0, len(ls)-1))\n"
   ]
  },
  {
   "cell_type": "code",
   "execution_count": null,
   "metadata": {},
   "outputs": [],
   "source": []
  }
 ],
 "metadata": {
  "kernelspec": {
   "display_name": "cntm-ds",
   "language": "python",
   "name": "python3"
  },
  "language_info": {
   "codemirror_mode": {
    "name": "ipython",
    "version": 3
   },
   "file_extension": ".py",
   "mimetype": "text/x-python",
   "name": "python",
   "nbconvert_exporter": "python",
   "pygments_lexer": "ipython3",
   "version": "3.11.9"
  }
 },
 "nbformat": 4,
 "nbformat_minor": 2
}
