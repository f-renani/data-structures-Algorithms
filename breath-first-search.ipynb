{
 "cells": [
  {
   "cell_type": "code",
   "execution_count": 10,
   "metadata": {},
   "outputs": [],
   "source": []
  },
  {
   "cell_type": "markdown",
   "metadata": {},
   "source": [
    "Using BFS to solve this LeedCode question\n",
    "\n",
    "\n",
    "# 130. Surrounded Regions\n",
    "\n",
    "You are given an m x n matrix board containing letters 'X' and 'O', capture regions that are surrounded:\n",
    "\n",
    "Connect: A cell is connected to adjacent cells horizontally or vertically.\n",
    "Region: To form a region connect every 'O' cell.\n",
    "Surround: The region is surrounded with 'X' cells if you can connect the region with 'X' cells and none of the region cells are on the edge of the board.\n",
    "A surrounded region is captured by replacing all 'O's with 'X's in the input matrix board.\n",
    "\n",
    " \n",
    "\n",
    "Example 1:\n",
    "\n",
    "Input: board = [[\"X\",\"X\",\"X\",\"X\"],[\"X\",\"O\",\"O\",\"X\"],[\"X\",\"X\",\"O\",\"X\"],[\"X\",\"O\",\"X\",\"X\"]]\n",
    "\n",
    "Output: [[\"X\",\"X\",\"X\",\"X\"],[\"X\",\"X\",\"X\",\"X\"],[\"X\",\"X\",\"X\",\"X\"],[\"X\",\"O\",\"X\",\"X\"]]"
   ]
  },
  {
   "cell_type": "code",
   "execution_count": 19,
   "metadata": {},
   "outputs": [],
   "source": [
    "from collections import deque\n",
    "\n",
    "def solve( board):\n",
    "    \"\"\"\n",
    "    :type board: List[List[str]]\n",
    "    :rtype: None Do not return anything, modify board in-place instead.\n",
    "    \"\"\"\n",
    "\n",
    "    def bfs(i,j):\n",
    "        directions = [(1,0), (-1, 0), (0,1), (0, -1)]\n",
    "        q = deque()\n",
    "        q.append((i,j))\n",
    "        board[i][j]='T'\n",
    "        while q:\n",
    "            x,y = q.popleft()\n",
    "            for dx, dy in directions:\n",
    "                nx, ny = x+dx, y+dy\n",
    "                if 0<=nx<m and 0<=ny<n and board[nx][ny]=='O':\n",
    "                    q.append((nx,ny))\n",
    "                    board[nx][ny]='T'\n",
    "\n",
    "    # finding all connected rigoin to teh boarder O\n",
    "    m = len(board)\n",
    "    n = len(board[0])\n",
    "    for i in range(m):\n",
    "        for j in range(n):\n",
    "            if (i in [0, m-1] or j in [0,n-1] ) and board[i][j]=='O':\n",
    "                bfs(i,j)\n",
    "    for i in range(m):\n",
    "        for j in range(n):\n",
    "            if board[i][j] == 'O' :\n",
    "                board[i][j] = 'X'\n",
    "            elif board[i][j] == 'T' :\n",
    "                board[i][j] = 'O'\n",
    "    return board"
   ]
  },
  {
   "cell_type": "code",
   "execution_count": 20,
   "metadata": {},
   "outputs": [
    {
     "name": "stdout",
     "output_type": "stream",
     "text": [
      "[['X', 'X', 'X', 'X'], ['X', 'O', 'O', 'X'], ['X', 'X', 'O', 'X'], ['X', 'T', 'X', 'X']]\n"
     ]
    },
    {
     "data": {
      "text/plain": [
       "[['X', 'X', 'X', 'X'],\n",
       " ['X', 'X', 'X', 'X'],\n",
       " ['X', 'X', 'X', 'X'],\n",
       " ['X', 'O', 'X', 'X']]"
      ]
     },
     "execution_count": 20,
     "metadata": {},
     "output_type": "execute_result"
    }
   ],
   "source": [
    "board1 = [\n",
    "    [\"X\", \"X\", \"X\", \"X\"],\n",
    "    [\"X\", \"O\", \"O\", \"X\"],\n",
    "    [\"X\", \"X\", \"O\", \"X\"],\n",
    "    [\"X\", \"O\", \"X\", \"X\"]\n",
    "]\n",
    "solve(board1)"
   ]
  },
  {
   "cell_type": "markdown",
   "metadata": {},
   "source": [
    "# Depth first search"
   ]
  },
  {
   "cell_type": "code",
   "execution_count": 21,
   "metadata": {},
   "outputs": [],
   "source": [
    "def solve( board):\n",
    "    \"\"\"\n",
    "    :type board: List[List[str]]\n",
    "    :rtype: None Do not return anything, modify board in-place instead.\n",
    "    \"\"\"\n",
    "\n",
    "    def dfs(i,j):\n",
    "        directions = [(1,0), (-1, 0), (0,1), (0, -1)]\n",
    "        q = []\n",
    "        q.append((i,j))\n",
    "        board[i][j]='T'\n",
    "        while q:\n",
    "            x,y = q.pop()\n",
    "            for dx, dy in directions:\n",
    "                nx, ny = x+dx, y+dy\n",
    "                if 0<=nx<m and 0<=ny<n and board[nx][ny]=='O':\n",
    "                    q.append((nx,ny))\n",
    "                    board[nx][ny]='T'\n",
    "                    dfs(nx,ny)\n",
    "\n",
    "    # finding all connected rigoin to teh boarder O\n",
    "    m = len(board)\n",
    "    n = len(board[0])\n",
    "    for i in range(m):\n",
    "        for j in range(n):\n",
    "            if (i in [0, m-1] or j in [0,n-1] ) and board[i][j]=='O':\n",
    "                dfs(i,j)\n",
    "    for i in range(m):\n",
    "        for j in range(n):\n",
    "            if board[i][j] == 'O' :\n",
    "                board[i][j] = 'X'\n",
    "            elif board[i][j] == 'T' :\n",
    "                board[i][j] = 'O'\n",
    "    return board"
   ]
  },
  {
   "cell_type": "code",
   "execution_count": 22,
   "metadata": {},
   "outputs": [
    {
     "data": {
      "text/plain": [
       "[['X', 'X', 'X', 'X'],\n",
       " ['X', 'X', 'X', 'X'],\n",
       " ['X', 'X', 'X', 'X'],\n",
       " ['X', 'O', 'X', 'X']]"
      ]
     },
     "execution_count": 22,
     "metadata": {},
     "output_type": "execute_result"
    }
   ],
   "source": [
    "board1 = [\n",
    "    [\"X\", \"X\", \"X\", \"X\"],\n",
    "    [\"X\", \"O\", \"O\", \"X\"],\n",
    "    [\"X\", \"X\", \"O\", \"X\"],\n",
    "    [\"X\", \"O\", \"X\", \"X\"]\n",
    "]\n",
    "solve(board1)"
   ]
  },
  {
   "cell_type": "code",
   "execution_count": null,
   "metadata": {},
   "outputs": [],
   "source": []
  }
 ],
 "metadata": {
  "kernelspec": {
   "display_name": "cntm-ds",
   "language": "python",
   "name": "python3"
  },
  "language_info": {
   "codemirror_mode": {
    "name": "ipython",
    "version": 3
   },
   "file_extension": ".py",
   "mimetype": "text/x-python",
   "name": "python",
   "nbconvert_exporter": "python",
   "pygments_lexer": "ipython3",
   "version": "3.11.9"
  }
 },
 "nbformat": 4,
 "nbformat_minor": 2
}
