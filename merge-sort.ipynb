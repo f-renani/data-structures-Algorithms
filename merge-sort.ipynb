{
 "cells": [
  {
   "cell_type": "code",
   "execution_count": 29,
   "metadata": {},
   "outputs": [],
   "source": [
    "def merge(arr, left, mid, right):\n",
    "    l_len = mid-left\n",
    "    r_len = right - mid +1\n",
    "\n",
    "    l_arr = arr[left:mid]\n",
    "    r_arr = arr[mid:right+1]\n",
    "\n",
    "    i = 0\n",
    "    j =0\n",
    "    k=left\n",
    "    while i<l_len and j<r_len:\n",
    "        if l_arr[i] <= r_arr[j]:\n",
    "            arr[k] = l_arr[i]\n",
    "            i += 1\n",
    "        else:\n",
    "            arr[k] = r_arr[j]\n",
    "            j += 1\n",
    "        k += 1\n",
    "    while i<l_len:\n",
    "        arr[k] = l_arr[i]\n",
    "        i += 1\n",
    "        k += 1\n",
    "    while j<r_len:\n",
    "        arr[k] = r_arr[j]\n",
    "        j += 1\n",
    "        k += 1\n",
    "    \n",
    "\n",
    "def merge_sort(arr, left, right):\n",
    "    if left < right:\n",
    "        mid = left + (right - left) //2\n",
    "        merge_sort(arr, left, mid)\n",
    "        merge_sort(arr, mid+1, right)\n",
    "        merge(arr, left, mid, right)\n"
   ]
  },
  {
   "cell_type": "code",
   "execution_count": 34,
   "metadata": {},
   "outputs": [
    {
     "data": {
      "text/plain": [
       "[1, 4, 6, 7]"
      ]
     },
     "execution_count": 34,
     "metadata": {},
     "output_type": "execute_result"
    }
   ],
   "source": [
    "ls = [1,4,6,7]\n",
    "merge_sort(ls, 0, len(ls)-1)\n",
    "ls"
   ]
  },
  {
   "cell_type": "code",
   "execution_count": 35,
   "metadata": {},
   "outputs": [
    {
     "data": {
      "text/plain": [
       "[]"
      ]
     },
     "execution_count": 35,
     "metadata": {},
     "output_type": "execute_result"
    }
   ],
   "source": [
    "ls = []\n",
    "merge_sort(ls, 0, len(ls)-1)\n",
    "ls"
   ]
  },
  {
   "cell_type": "code",
   "execution_count": 36,
   "metadata": {},
   "outputs": [
    {
     "data": {
      "text/plain": [
       "[0, 0, 0]"
      ]
     },
     "execution_count": 36,
     "metadata": {},
     "output_type": "execute_result"
    }
   ],
   "source": [
    "ls = [0,0,0]\n",
    "merge_sort(ls, 0, len(ls)-1)\n",
    "ls"
   ]
  },
  {
   "cell_type": "code",
   "execution_count": null,
   "metadata": {},
   "outputs": [],
   "source": []
  }
 ],
 "metadata": {
  "kernelspec": {
   "display_name": "cntm-ds",
   "language": "python",
   "name": "python3"
  },
  "language_info": {
   "codemirror_mode": {
    "name": "ipython",
    "version": 3
   },
   "file_extension": ".py",
   "mimetype": "text/x-python",
   "name": "python",
   "nbconvert_exporter": "python",
   "pygments_lexer": "ipython3",
   "version": "3.11.9"
  }
 },
 "nbformat": 4,
 "nbformat_minor": 2
}
