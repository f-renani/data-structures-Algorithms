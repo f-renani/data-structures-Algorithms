{
 "cells": [
  {
   "cell_type": "code",
   "execution_count": 16,
   "metadata": {},
   "outputs": [],
   "source": [
    "def binarySearch(arr, element):\n",
    "    \n",
    "    left, right = 0, len(arr)-1\n",
    "    \n",
    "    while left<=right:\n",
    "        mid = left + (right-left)//2\n",
    "        if arr[mid]==element:\n",
    "            return mid\n",
    "        elif arr[mid] < element:\n",
    "            left = mid + 1\n",
    "        else:\n",
    "            right = mid-1\n",
    "    return -1 # Element not found\n"
   ]
  },
  {
   "cell_type": "code",
   "execution_count": 17,
   "metadata": {},
   "outputs": [
    {
     "data": {
      "text/plain": [
       "5"
      ]
     },
     "execution_count": 17,
     "metadata": {},
     "output_type": "execute_result"
    }
   ],
   "source": [
    "ls = [1,2,4,7,10,22]\n",
    "binarySearch(ls, 22)"
   ]
  }
 ],
 "metadata": {
  "kernelspec": {
   "display_name": "cntm-ds",
   "language": "python",
   "name": "python3"
  },
  "language_info": {
   "codemirror_mode": {
    "name": "ipython",
    "version": 3
   },
   "file_extension": ".py",
   "mimetype": "text/x-python",
   "name": "python",
   "nbconvert_exporter": "python",
   "pygments_lexer": "ipython3",
   "version": "3.11.9"
  }
 },
 "nbformat": 4,
 "nbformat_minor": 2
}
